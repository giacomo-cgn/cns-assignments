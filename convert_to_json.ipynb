{
 "cells": [
  {
   "cell_type": "code",
   "execution_count": 1,
   "metadata": {},
   "outputs": [],
   "source": [
    "import os\n",
    "import json\n",
    "import csv\n",
    "import numpy as np\n",
    "import torch"
   ]
  },
  {
   "cell_type": "code",
   "execution_count": 2,
   "metadata": {},
   "outputs": [],
   "source": [
    "def convert_npy_to_json(file_path):\n",
    "    # Load the .npy file\n",
    "    npy_data = np.load(file_path, allow_pickle=True)\n",
    "\n",
    "    # Replace the extension from .npy to .json\n",
    "    json_file_path = os.path.splitext(file_path)[0] + \".json\"\n",
    "\n",
    "    # Convert and save as JSON\n",
    "    with open(json_file_path, 'w') as json_file:\n",
    "        json.dump(npy_data.tolist(), json_file)"
   ]
  },
  {
   "cell_type": "code",
   "execution_count": 3,
   "metadata": {},
   "outputs": [],
   "source": [
    "def convert_csv_to_json(file_path):\n",
    "    # Read the CSV file\n",
    "    with open(file_path, 'r') as csv_file:\n",
    "        csv_reader = csv.DictReader(csv_file)\n",
    "        # Convert the CSV data to a list of dictionaries\n",
    "        data = list(csv_reader)\n",
    "\n",
    "    # Replace the extension from .csv to .json\n",
    "    json_file_path = os.path.splitext(file_path)[0] + \".json\"\n",
    "\n",
    "    # Write the data as JSON\n",
    "    with open(json_file_path, 'w') as json_file:\n",
    "        json.dump(data, json_file, indent=4)"
   ]
  },
  {
   "cell_type": "markdown",
   "metadata": {},
   "source": [
    "Convert all .npy, .csv files to .json"
   ]
  },
  {
   "cell_type": "code",
   "execution_count": 4,
   "metadata": {},
   "outputs": [],
   "source": [
    "folder = 'LAB3_1'"
   ]
  },
  {
   "cell_type": "code",
   "execution_count": 5,
   "metadata": {},
   "outputs": [],
   "source": [
    "for root, dirs, files in os.walk(folder):\n",
    "    for file in files:\n",
    "        if file.endswith(\".npy\"):\n",
    "            file_path = os.path.join(root, file)\n",
    "            convert_npy_to_json(file_path)\n",
    "        elif file.endswith(\".csv\"):\n",
    "            file_path = os.path.join(root, file)\n",
    "            convert_csv_to_json(file_path)"
   ]
  }
 ],
 "metadata": {
  "kernelspec": {
   "display_name": "cns",
   "language": "python",
   "name": "python3"
  },
  "language_info": {
   "codemirror_mode": {
    "name": "ipython",
    "version": 3
   },
   "file_extension": ".py",
   "mimetype": "text/x-python",
   "name": "python",
   "nbconvert_exporter": "python",
   "pygments_lexer": "ipython3",
   "version": "3.10.9"
  }
 },
 "nbformat": 4,
 "nbformat_minor": 2
}
